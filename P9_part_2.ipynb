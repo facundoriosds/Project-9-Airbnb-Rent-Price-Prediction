{
 "cells": [
  {
   "cell_type": "markdown",
   "id": "376aa0f8-6208-4614-8c9d-d831976306cb",
   "metadata": {
    "tags": []
   },
   "source": [
    "## Project 9 Part 2 - Airbnb Rent Price Prediction"
   ]
  },
  {
   "cell_type": "markdown",
   "id": "73da620b-795a-42ae-bd62-3de10931d216",
   "metadata": {
    "tags": []
   },
   "source": [
    "### Notebook Content\n",
    "\n",
    "1. Model training and evaluation.\n"
   ]
  },
  {
   "cell_type": "code",
   "execution_count": 18,
   "id": "56cb2054-8772-4e08-8e14-bcdf4b8657e2",
   "metadata": {
    "tags": []
   },
   "outputs": [],
   "source": [
    "import numpy as np\n",
    "import pandas as pd\n",
    "import matplotlib.pyplot as plt\n",
    "from scipy import stats\n",
    "\n",
    "from sklearn.ensemble import GradientBoostingRegressor\n",
    "from sklearn.metrics import mean_squared_error\n",
    "from sklearn.model_selection import train_test_split, cross_val_score, train_test_split\n",
    "\n",
    "import xgboost as xgb\n",
    "\n",
    "from skopt import gp_minimize\n",
    "from skopt.plots import (plot_convergence, plot_evaluations, plot_objective)\n",
    "from skopt.space import Real, Integer, Categorical\n",
    "from skopt.utils import use_named_args\n",
    "from skopt import BayesSearchCV"
   ]
  },
  {
   "cell_type": "markdown",
   "id": "c1f480c3-22aa-41a5-b5a4-ba40a23d3adf",
   "metadata": {},
   "source": [
    "Import dataset"
   ]
  },
  {
   "cell_type": "code",
   "execution_count": 3,
   "id": "012bceeb-4f54-4aba-aeee-05b8042f2d98",
   "metadata": {
    "tags": []
   },
   "outputs": [],
   "source": [
    "train = pd.read_csv('datasets/ds_train_v2.csv')\n",
    "test = pd.read_csv('datasets/ds_test_v2.csv')"
   ]
  },
  {
   "cell_type": "code",
   "execution_count": 4,
   "id": "408adc57-25e5-4e04-8bc7-d94eabd61f41",
   "metadata": {
    "tags": []
   },
   "outputs": [],
   "source": [
    "X_train = train.drop(columns='price')            \n",
    "y_train = train['price']\n",
    "X_test = test.drop(columns='price')            \n",
    "y_test = test['price']"
   ]
  },
  {
   "cell_type": "code",
   "execution_count": 5,
   "id": "9a8e3bda-bf98-4072-addc-4141c0ca8197",
   "metadata": {
    "tags": []
   },
   "outputs": [
    {
     "name": "stdout",
     "output_type": "stream",
     "text": [
      "X_train shape: (24426, 23), type: <class 'pandas.core.frame.DataFrame'>\n",
      "y_train shape: (24426,), type: <class 'pandas.core.series.Series'>\n",
      "X_test shape: (6134, 23), type: <class 'pandas.core.frame.DataFrame'>\n",
      "y_test shape: (6134,), type: <class 'pandas.core.series.Series'>\n"
     ]
    }
   ],
   "source": [
    "print('X_train shape: {}, type: {}'.format(X_train.shape, type(X_train)))\n",
    "print('y_train shape: {}, type: {}'.format(y_train.shape,type(y_train)))\n",
    "print('X_test shape: {}, type: {}'.format(X_test.shape,type(X_test)))\n",
    "print('y_test shape: {}, type: {}'.format(y_test.shape,type(y_test)))"
   ]
  },
  {
   "cell_type": "markdown",
   "id": "d4ad8d88-29b6-4c20-b538-90fe3da11057",
   "metadata": {},
   "source": [
    "### Model XGBoost Regressor with Bayesian Optimization "
   ]
  },
  {
   "cell_type": "markdown",
   "id": "2c71461a-53a6-4018-9cfe-43bd78de1060",
   "metadata": {},
   "source": [
    "Hyperparameter Space definition:"
   ]
  },
  {
   "cell_type": "code",
   "execution_count": 19,
   "id": "0f825500-bf8b-4402-979e-c8aa2aebbc54",
   "metadata": {
    "tags": []
   },
   "outputs": [],
   "source": [
    "param_grid = [\n",
    "              Integer(50, 300, name='n_estimators'),  \n",
    "              Integer(1, 10, name='max_depth'),\n",
    "              Real(0.01, 0.99, name='learning_rate'),\n",
    "              Categorical(['gbtree', 'dart'], name='booster'),\n",
    "              Real(0.01, 10, name='gamma'),\n",
    "              Real(0.50, 0.90, name='subsample'),\n",
    "              Real(0.50, 0.90, name='colsample_bytree'),\n",
    "              Real(0.50, 0.90, name='colsample_bylevel'),\n",
    "              Real(0.50, 0.90, name='colsample_bynode'),\n",
    "              Integer(1, 50, name='reg_lambda'),\n",
    "              ]"
   ]
  },
  {
   "cell_type": "markdown",
   "id": "2f2fa2a3-1192-45bf-847e-82abeca69c86",
   "metadata": {},
   "source": [
    "Model definition:"
   ]
  },
  {
   "cell_type": "code",
   "execution_count": 20,
   "id": "03a2207f-34cf-4c0f-b796-3dfb656c8854",
   "metadata": {
    "tags": []
   },
   "outputs": [],
   "source": [
    "gbm = xgb.XGBRegressor(random_state=42)"
   ]
  },
  {
   "cell_type": "markdown",
   "id": "c26cb28f-18cf-4ac8-b879-d1924a957ab3",
   "metadata": {},
   "source": [
    "Objective function definition:"
   ]
  },
  {
   "cell_type": "code",
   "execution_count": 21,
   "id": "1329ba8e-cced-42b3-8e4f-a597ed471bc8",
   "metadata": {
    "tags": []
   },
   "outputs": [],
   "source": [
    "@use_named_args(param_grid)\n",
    "def objective(**params):\n",
    "    \n",
    "    gbm.set_params(**params)\n",
    "\n",
    "    value = np.mean(cross_val_score(\n",
    "                                    gbm, \n",
    "                                    X_train,\n",
    "                                    y_train,\n",
    "                                    cv=3,\n",
    "                                    n_jobs=-1,\n",
    "                                    )\n",
    "                    )\n",
    "    \n",
    "    return -value "
   ]
  },
  {
   "cell_type": "markdown",
   "id": "eb5efdde-dfb0-42f0-87d7-40c5af08dfc9",
   "metadata": {},
   "source": [
    "### Bayesian Optimization"
   ]
  },
  {
   "cell_type": "code",
   "execution_count": 22,
   "id": "cd0a2b7f-ab8f-4e51-b089-59da83b2c91f",
   "metadata": {
    "scrolled": true,
    "tags": []
   },
   "outputs": [],
   "source": [
    "gp_ = gp_minimize(\n",
    "                  objective, \n",
    "                  param_grid, \n",
    "                  n_initial_points=5, \n",
    "                  acq_func='EI', \n",
    "                  n_calls=20, \n",
    "                  random_state=42\n",
    "                  )"
   ]
  },
  {
   "cell_type": "code",
   "execution_count": 23,
   "id": "913d0ddc-4493-4ce2-9914-2ccb9f75c7e6",
   "metadata": {
    "tags": []
   },
   "outputs": [
    {
     "data": {
      "text/plain": [
       "'Best score=-0.6393'"
      ]
     },
     "execution_count": 23,
     "metadata": {},
     "output_type": "execute_result"
    }
   ],
   "source": [
    "\"Best score=%.4f\" % gp_.fun"
   ]
  },
  {
   "cell_type": "code",
   "execution_count": 24,
   "id": "22447694-84a2-4b81-ad4f-a08d7e9ab10f",
   "metadata": {
    "tags": []
   },
   "outputs": [
    {
     "data": {
      "text/plain": [
       "[277,\n",
       " 4,\n",
       " 0.3418580157284763,\n",
       " 'gbtree',\n",
       " 5.388417648179694,\n",
       " 0.6486866702908727,\n",
       " 0.5817127143373557,\n",
       " 0.761454126680555,\n",
       " 0.5696624120752922,\n",
       " 45]"
      ]
     },
     "execution_count": 24,
     "metadata": {},
     "output_type": "execute_result"
    }
   ],
   "source": [
    "gp_.x"
   ]
  },
  {
   "cell_type": "code",
   "execution_count": 25,
   "id": "36e4335b-8c56-4425-8905-ebd6bad33108",
   "metadata": {
    "tags": []
   },
   "outputs": [
    {
     "name": "stdout",
     "output_type": "stream",
     "text": [
      "Best parameters:\n",
      "=========================\n",
      "- n_estimators = 277\n",
      "- max_depth = 4\n",
      "- learning_rate = 0.341858\n",
      "- booster = gbtree\n",
      "- gamma = 5.388418\n",
      "= subsample = 0.648687\n",
      "- colsample_bytree = 0.581713\n",
      "- colsample_bylevel = 0.761454\n",
      "- colsample_bynode' = 0.569662\n",
      "\n"
     ]
    }
   ],
   "source": [
    "print(\"\"\"Best parameters:\n",
    "=========================\n",
    "- n_estimators = %d\n",
    "- max_depth = %d\n",
    "- learning_rate = %.6f\n",
    "- booster = %s\n",
    "- gamma = %.6f\n",
    "= subsample = %.6f\n",
    "- colsample_bytree = %.6f\n",
    "- colsample_bylevel = %.6f\n",
    "- colsample_bynode' = %.6f\n",
    "\"\"\" % (gp_.x[0],\n",
    "       gp_.x[1],\n",
    "       gp_.x[2],\n",
    "       gp_.x[3],\n",
    "       gp_.x[4],\n",
    "       gp_.x[5],\n",
    "       gp_.x[6],\n",
    "       gp_.x[7],\n",
    "       gp_.x[8],\n",
    "      ))"
   ]
  },
  {
   "cell_type": "markdown",
   "id": "b6b06e78-07f9-4b16-9811-61a6e6eba786",
   "metadata": {},
   "source": [
    "Convergence Evaluation:"
   ]
  },
  {
   "cell_type": "code",
   "execution_count": 26,
   "id": "718d218e-1882-4603-8806-43afd807788e",
   "metadata": {
    "tags": []
   },
   "outputs": [
    {
     "data": {
      "text/plain": [
       "<AxesSubplot:title={'center':'Convergence plot'}, xlabel='Number of calls $n$', ylabel='$\\\\min f(x)$ after $n$ calls'>"
      ]
     },
     "execution_count": 26,
     "metadata": {},
     "output_type": "execute_result"
    },
    {
     "data": {
      "image/png": "[encoded data removed]",
      "text/plain": [
       "<Figure size 640x480 with 1 Axes>"
      ]
     },
     "metadata": {},
     "output_type": "display_data"
    }
   ],
   "source": [
    "plot_convergence(gp_)"
   ]
  },
  {
   "cell_type": "markdown",
   "id": "a356cd3e-c288-4fa4-9493-342593388483",
   "metadata": {},
   "source": [
    "The search found the best parameters after 17 iterations."
   ]
  },
  {
   "cell_type": "code",
   "execution_count": null,
   "id": "f7965b26-6df5-417e-bc11-5cede4b4c48f",
   "metadata": {},
   "outputs": [],
   "source": []
  }
 ],
 "metadata": {
  "kernelspec": {
   "display_name": "Python 3 (ipykernel)",
   "language": "python",
   "name": "python3"
  },
  "language_info": {
   "codemirror_mode": {
    "name": "ipython",
    "version": 3
   },
   "file_extension": ".py",
   "mimetype": "text/x-python",
   "name": "python",
   "nbconvert_exporter": "python",
   "pygments_lexer": "ipython3",
   "version": "3.9.16"
  }
 },
 "nbformat": 4,
 "nbformat_minor": 5
}
